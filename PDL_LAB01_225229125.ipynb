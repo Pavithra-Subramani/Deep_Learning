{
 "cells": [
  {
   "cell_type": "markdown",
   "id": "788e61f3",
   "metadata": {},
   "source": [
    "# LAB-01:PYTHON  FUNCTIONS AND NUMPY\n"
   ]
  },
  {
   "cell_type": "markdown",
   "id": "5af14bbd",
   "metadata": {},
   "source": [
    "Name:Pavithra S\n",
    "Roll No:225229125"
   ]
  },
  {
   "cell_type": "markdown",
   "id": "25d85169",
   "metadata": {},
   "source": [
    "### Part-I: Write a method for sigmoid function"
   ]
  },
  {
   "cell_type": "code",
   "execution_count": 42,
   "id": "ef360196",
   "metadata": {},
   "outputs": [],
   "source": [
    "import math\n",
    "\n",
    "def mysigmoid(x):\n",
    "    return 1 / (1 + math.exp(-x))"
   ]
  },
  {
   "cell_type": "code",
   "execution_count": 3,
   "id": "b35eeb9e",
   "metadata": {},
   "outputs": [
    {
     "name": "stdout",
     "output_type": "stream",
     "text": [
      "0.9820137900379085\n"
     ]
    }
   ],
   "source": [
    "result = mysigmoid(4)\n",
    "print(result)  \n"
   ]
  },
  {
   "cell_type": "code",
   "execution_count": 4,
   "id": "56233b36",
   "metadata": {},
   "outputs": [
    {
     "name": "stdout",
     "output_type": "stream",
     "text": [
      "[0.7310585786300049, 0.8807970779778823, 0.9525741268224334]\n"
     ]
    }
   ],
   "source": [
    "import math\n",
    "\n",
    "def mysigmoid(x):\n",
    "    return 1 / (1 + math.exp(-x))\n",
    "\n",
    "x = [1, 2, 3]\n",
    "sigmoid_values = [mysigmoid(val) for val in x]\n",
    "\n",
    "print(sigmoid_values)\n"
   ]
  },
  {
   "cell_type": "code",
   "execution_count": 8,
   "id": "2004203a",
   "metadata": {},
   "outputs": [
    {
     "name": "stdout",
     "output_type": "stream",
     "text": [
      "[0.7310585786300049, 0.8807970779778823, 0.9525741268224334]\n"
     ]
    }
   ],
   "source": [
    "import numpy as np\n",
    "\n",
    "def mysigmoid(x):\n",
    "    return 1 / (1 + np.exp(-x))\n",
    "x = [1, 2, 3]\n",
    "sigmoid_values = [mysigmoid(val) for val in x]\n",
    "\n",
    "print(sigmoid_values)\n"
   ]
  },
  {
   "cell_type": "code",
   "execution_count": 7,
   "id": "4191280e",
   "metadata": {},
   "outputs": [
    {
     "name": "stdout",
     "output_type": "stream",
     "text": [
      "0.9998766054240137\n"
     ]
    }
   ],
   "source": [
    "result = mysigmoid(9)\n",
    "print(result)  "
   ]
  },
  {
   "cell_type": "markdown",
   "id": "0f80e5c5",
   "metadata": {},
   "source": [
    "### Part-II: Gradient or derivative of sigmoid function"
   ]
  },
  {
   "cell_type": "code",
   "execution_count": 13,
   "id": "c0b6233d",
   "metadata": {},
   "outputs": [],
   "source": [
    "import numpy as np\n",
    "\n",
    "def mysigmoidd(x):\n",
    "    return 1 / (1 + np.exp(-x))\n",
    "\n",
    "def sig_derivative(s):\n",
    "    return s * (1 - s)\n"
   ]
  },
  {
   "cell_type": "code",
   "execution_count": 15,
   "id": "51ab4892",
   "metadata": {},
   "outputs": [
    {
     "data": {
      "text/plain": [
       "-30"
      ]
     },
     "execution_count": 15,
     "metadata": {},
     "output_type": "execute_result"
    }
   ],
   "source": [
    "sig_derivative(6)"
   ]
  },
  {
   "cell_type": "code",
   "execution_count": 14,
   "id": "78781191",
   "metadata": {},
   "outputs": [
    {
     "data": {
      "text/plain": [
       "0.9975273768433653"
      ]
     },
     "execution_count": 14,
     "metadata": {},
     "output_type": "execute_result"
    }
   ],
   "source": [
    "mysigmoidd(6)"
   ]
  },
  {
   "cell_type": "code",
   "execution_count": 11,
   "id": "b0b81cb8",
   "metadata": {},
   "outputs": [
    {
     "name": "stdout",
     "output_type": "stream",
     "text": [
      "[0.19661193 0.10499359 0.04517666]\n"
     ]
    }
   ],
   "source": [
    "import numpy as np\n",
    "\n",
    "x = np.array([1, 2, 3])\n",
    "s = mysigmoid(x)\n",
    "gradient = sig_derivative(s)\n",
    "\n",
    "print(gradient)\n"
   ]
  },
  {
   "cell_type": "markdown",
   "id": "7a2d4fc2",
   "metadata": {},
   "source": [
    "### Part-III: Write a method image_to_vector()"
   ]
  },
  {
   "cell_type": "code",
   "execution_count": 16,
   "id": "109fb675",
   "metadata": {},
   "outputs": [],
   "source": [
    "import numpy as np\n",
    "\n",
    "def image_to_vector(image):\n",
    "    length, height, _ = image.shape\n",
    "    return image.reshape((length * height * 3, 1))\n"
   ]
  },
  {
   "cell_type": "code",
   "execution_count": 17,
   "id": "47b4f351",
   "metadata": {},
   "outputs": [
    {
     "name": "stdout",
     "output_type": "stream",
     "text": [
      "[[129]\n",
      " [ 20]\n",
      " [137]\n",
      " [178]\n",
      " [  1]\n",
      " [171]\n",
      " [ 45]\n",
      " [172]\n",
      " [ 97]\n",
      " [228]\n",
      " [158]\n",
      " [127]\n",
      " [ 11]\n",
      " [ 84]\n",
      " [ 33]\n",
      " [ 43]\n",
      " [ 77]\n",
      " [206]]\n"
     ]
    }
   ],
   "source": [
    "import numpy as np\n",
    "\n",
    "image = np.random.randint(0, 255, size=(2, 3, 3))\n",
    "vector = image_to_vector(image)\n",
    "\n",
    "print(vector)\n"
   ]
  },
  {
   "cell_type": "code",
   "execution_count": 18,
   "id": "7b92d6ba",
   "metadata": {},
   "outputs": [
    {
     "name": "stdout",
     "output_type": "stream",
     "text": [
      "[[255]\n",
      " [  0]\n",
      " [  0]\n",
      " [  0]\n",
      " [255]\n",
      " [  0]\n",
      " [  0]\n",
      " [  0]\n",
      " [255]\n",
      " [255]\n",
      " [255]\n",
      " [  0]\n",
      " [255]\n",
      " [  0]\n",
      " [255]\n",
      " [  0]\n",
      " [255]\n",
      " [255]\n",
      " [128]\n",
      " [128]\n",
      " [128]\n",
      " [ 64]\n",
      " [ 64]\n",
      " [ 64]\n",
      " [  0]\n",
      " [  0]\n",
      " [  0]]\n"
     ]
    }
   ],
   "source": [
    "import numpy as np\n",
    "\n",
    "def image_to_vector(image):\n",
    "    length, height, _ = image.shape\n",
    "    return image.reshape((length * height * 3, 1))\n",
    "\n",
    "# Create a 3x3x3 array of RGB color values\n",
    "image = np.array([\n",
    "    [[255, 0, 0], [0, 255, 0], [0, 0, 255]],\n",
    "    [[255, 255, 0], [255, 0, 255], [0, 255, 255]],\n",
    "    [[128, 128, 128], [64, 64, 64], [0, 0, 0]]\n",
    "])\n",
    "\n",
    "# Reshape the image array into a vector\n",
    "vector = image_to_vector(image)\n",
    "\n",
    "print(vector)\n"
   ]
  },
  {
   "cell_type": "markdown",
   "id": "5d094012",
   "metadata": {},
   "source": [
    "### Part-III: Write a method image_to_vector()"
   ]
  },
  {
   "cell_type": "code",
   "execution_count": 21,
   "id": "b61aa16a",
   "metadata": {},
   "outputs": [],
   "source": [
    "import numpy as np\n",
    "\n",
    "def normalizeRows(x):\n",
    "    norms = np.linalg.norm(x, axis=1, keepdims=True)\n",
    "    return x / norms\n"
   ]
  },
  {
   "cell_type": "code",
   "execution_count": 22,
   "id": "1f690239",
   "metadata": {},
   "outputs": [
    {
     "name": "stdout",
     "output_type": "stream",
     "text": [
      "[[0.         0.6        0.8       ]\n",
      " [0.26726124 0.80178373 0.53452248]]\n"
     ]
    }
   ],
   "source": [
    "import numpy as np\n",
    "\n",
    "x = np.array([[0,3,4], [2,6, 4]])\n",
    "normalized_x = normalizeRows(x)\n",
    "\n",
    "print(normalized_x)\n"
   ]
  },
  {
   "cell_type": "code",
   "execution_count": 24,
   "id": "91e6436f",
   "metadata": {},
   "outputs": [
    {
     "name": "stdout",
     "output_type": "stream",
     "text": [
      "Multiplication: [63  4 10]\n",
      "Dot product: 77\n"
     ]
    }
   ],
   "source": [
    "import numpy as np\n",
    "\n",
    "x1 = np.array([9, 2, 5])\n",
    "x2 = np.array([7, 2, 2])\n",
    "\n",
    "multiplication = np.multiply(x1, x2)\n",
    "dot_product = np.dot(x1, x2)\n",
    "\n",
    "print(\"Multiplication:\", multiplication)\n",
    "print(\"Dot product:\", dot_product)\n"
   ]
  },
  {
   "cell_type": "code",
   "execution_count": 25,
   "id": "72eba649",
   "metadata": {},
   "outputs": [
    {
     "name": "stdout",
     "output_type": "stream",
     "text": [
      "Multiplication: [63  4 10  0  0 63 10  0  0  0 81  4 25  0  0 32 25 21]\n",
      "Dot product: 338\n"
     ]
    }
   ],
   "source": [
    "import numpy as np\n",
    "\n",
    "x1 = np.array([9, 2, 5, 0, 0, 7, 5, 0, 0, 0, 9, 2, 5, 0, 0, 4, 5, 7])\n",
    "x2 = np.array([7, 2, 2, 9, 0, 9, 2, 5, 0, 0, 9, 2, 5, 0, 0, 8, 5, 3])\n",
    "\n",
    "multiplication = np.multiply(x1, x2)\n",
    "dot_product = np.dot(x1, x2)\n",
    "\n",
    "print(\"Multiplication:\", multiplication)\n",
    "print(\"Dot product:\", dot_product)\n"
   ]
  },
  {
   "cell_type": "code",
   "execution_count": 26,
   "id": "42417ff2",
   "metadata": {},
   "outputs": [
    {
     "name": "stdout",
     "output_type": "stream",
     "text": [
      "Multiplication Time: 0.004580497741699219\n",
      "Vectorization Time: 0.0035119056701660156\n"
     ]
    }
   ],
   "source": [
    "import numpy as np\n",
    "import time\n",
    "\n",
    "# Set the size of the vectors\n",
    "N = 1000000\n",
    "\n",
    "# Generate random vectors of size N\n",
    "vector1 = np.random.random(N)\n",
    "vector2 = np.random.random(N)\n",
    "\n",
    "# Perform multiplication operation\n",
    "start_time = time.time()\n",
    "multiplication_result = vector1 * vector2\n",
    "end_time = time.time()\n",
    "multiplication_time = end_time - start_time\n",
    "\n",
    "# Perform vectorization operation\n",
    "start_time = time.time()\n",
    "vectorization_result = np.multiply(vector1, vector2)\n",
    "end_time = time.time()\n",
    "vectorization_time = end_time - start_time\n",
    "\n",
    "# Print the running times\n",
    "print(\"Multiplication Time:\", multiplication_time)\n",
    "print(\"Vectorization Time:\", vectorization_time)\n"
   ]
  },
  {
   "cell_type": "markdown",
   "id": "4cab4a2d",
   "metadata": {},
   "source": [
    "### Part-VI: Implement L1 and L2 loss functions"
   ]
  },
  {
   "cell_type": "code",
   "execution_count": 31,
   "id": "5975daf7",
   "metadata": {},
   "outputs": [
    {
     "name": "stdout",
     "output_type": "stream",
     "text": [
      "L1 Loss: 1.1\n"
     ]
    }
   ],
   "source": [
    "import numpy as np\n",
    "\n",
    "def loss_l1(y, ypred):\n",
    "    return np.sum(np.abs(y - ypred))\n",
    "\n",
    "# Test the function with given vectors\n",
    "y = np.array([1, 0, 0, 1, 1])\n",
    "ypred = np.array([0.9, 0.2, 0.1, 0.4, 0.9])\n",
    "\n",
    "l1_loss = loss_l1(y, ypred)\n",
    "print(\"L1 Loss:\", l1_loss)\n"
   ]
  },
  {
   "cell_type": "code",
   "execution_count": 41,
   "id": "f3a3acc0",
   "metadata": {},
   "outputs": [
    {
     "name": "stdout",
     "output_type": "stream",
     "text": [
      "L2 Loss: 0.04999999999999999\n"
     ]
    }
   ],
   "source": [
    "import numpy as np\n",
    "\n",
    "def loss_l2(y, ypred):\n",
    "    return np.mean((y - ypred) /2 )\n",
    "\n",
    "# Test the function with given vectors\n",
    "y = np.array([1, 0, 0, 1, 1])\n",
    "ypred = np.array([0.9, 0.2, 0.1, 0.4, 0.9])\n",
    "\n",
    "l2_loss = loss_l2(y, ypred)\n",
    "print(\"L2 Loss:\", l2_loss)\n"
   ]
  },
  {
   "cell_type": "code",
   "execution_count": null,
   "id": "52ec0e84",
   "metadata": {},
   "outputs": [],
   "source": []
  }
 ],
 "metadata": {
  "kernelspec": {
   "display_name": "Python 3 (ipykernel)",
   "language": "python",
   "name": "python3"
  },
  "language_info": {
   "codemirror_mode": {
    "name": "ipython",
    "version": 3
   },
   "file_extension": ".py",
   "mimetype": "text/x-python",
   "name": "python",
   "nbconvert_exporter": "python",
   "pygments_lexer": "ipython3",
   "version": "3.9.12"
  }
 },
 "nbformat": 4,
 "nbformat_minor": 5
}
